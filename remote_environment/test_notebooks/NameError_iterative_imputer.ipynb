{
 "cells": [
  {
   "cell_type": "code",
   "execution_count": 1,
   "metadata": {
    "ExecuteTime": {
     "end_time": "2024-02-07T11:57:39.190531Z",
     "start_time": "2024-02-07T11:57:38.300018Z"
    },
    "colab": {},
    "colab_type": "code",
    "id": "JqsZhhMUZnxX"
   },
   "outputs": [],
   "source": [
    "import numpy as np\n",
    "\n",
    "# Since this estimator is experimental, we need to import it explicitly\n",
    "from sklearn.experimental import enable_iterative_imputer  \n",
    "from sklearn.impute import IterativeImputer"
   ]
  },
  {
   "cell_type": "code",
   "execution_count": 2,
   "metadata": {
    "ExecuteTime": {
     "end_time": "2024-02-07T11:57:41.460293Z",
     "start_time": "2024-02-07T11:57:41.458445Z"
    },
    "colab": {},
    "colab_type": "code",
    "id": "EwRy35OTZ-ea"
   },
   "outputs": [],
   "source": [
    "# Make a test dataset\n",
    "data = [[1, 2, 3, 4, np.nan],\n",
    "        [5, 6, 7, 8, 11],\n",
    "        [9, 1, 12, 2, 3],\n",
    "        [4, np.nan, 5, 6, 7],\n",
    "        [4, 8, 1, 2, 3]]"
   ]
  },
  {
   "cell_type": "code",
   "execution_count": 5,
   "metadata": {
    "ExecuteTime": {
     "end_time": "2024-02-07T11:58:00.957016Z",
     "start_time": "2024-02-07T11:58:00.932738Z"
    },
    "colab": {
     "base_uri": "https://localhost:8080/",
     "height": 102
    },
    "colab_type": "code",
    "id": "dpkWWrFpeHQ0",
    "outputId": "3b09b267-461e-4a61-d9d9-2c91f87adbe5"
   },
   "outputs": [
    {
     "ename": "NameError",
     "evalue": "name 'Data' is not defined",
     "output_type": "error",
     "traceback": [
      "\u001b[0;31m---------------------------------------------------------------------------\u001b[0m",
      "\u001b[0;31mNameError\u001b[0m                                 Traceback (most recent call last)",
      "Cell \u001b[0;32mIn[5], line 3\u001b[0m\n\u001b[1;32m      1\u001b[0m \u001b[38;5;66;03m# Impute missing values using iterative imputer\u001b[39;00m\n\u001b[1;32m      2\u001b[0m iter_imp \u001b[38;5;241m=\u001b[39m IterativeImputer(random_state\u001b[38;5;241m=\u001b[39m \u001b[38;5;241m34\u001b[39m)\n\u001b[0;32m----> 3\u001b[0m iter_imp\u001b[38;5;241m.\u001b[39mfit_transform(\u001b[43mData\u001b[49m)\n",
      "\u001b[0;31mNameError\u001b[0m: name 'Data' is not defined"
     ]
    }
   ],
   "source": [
    "# Impute missing values using iterative imputer\n",
    "iter_imp = IterativeImputer(random_state= 34)\n",
    "iter_imp.fit_transform(Data)"
   ]
  }
 ],
 "metadata": {
  "colab": {
   "name": "iterative_imputer.ipynb",
   "provenance": []
  },
  "kernelspec": {
   "display_name": "Python 3 (ipykernel)",
   "language": "python",
   "name": "python3"
  },
  "language_info": {
   "codemirror_mode": {
    "name": "ipython",
    "version": 3
   },
   "file_extension": ".py",
   "mimetype": "text/x-python",
   "name": "python",
   "nbconvert_exporter": "python",
   "pygments_lexer": "ipython3",
   "version": "3.11.0"
  }
 },
 "nbformat": 4,
 "nbformat_minor": 4
}
