{
 "cells": [
  {
   "cell_type": "code",
   "execution_count": 1,
   "id": "initial_id",
   "metadata": {
    "collapsed": true,
    "execution": {
     "iopub.execute_input": "2024-02-06T11:32:58.761677Z",
     "iopub.status.busy": "2024-02-06T11:32:58.761163Z",
     "iopub.status.idle": "2024-02-06T11:32:58.770294Z",
     "shell.execute_reply": "2024-02-06T11:32:58.769516Z"
    },
    "ExecuteTime": {
     "end_time": "2024-02-09T15:04:45.163728Z",
     "start_time": "2024-02-09T15:04:45.158830Z"
    }
   },
   "outputs": [
    {
     "name": "stdout",
     "output_type": "stream",
     "text": [
      "1\n"
     ]
    }
   ],
   "source": [
    "print(1)"
   ]
  },
  {
   "cell_type": "code",
   "execution_count": 2,
   "id": "c60bcf8fcb241e1d",
   "metadata": {
    "collapsed": false,
    "execution": {
     "iopub.execute_input": "2024-02-06T11:32:58.773430Z",
     "iopub.status.busy": "2024-02-06T11:32:58.773209Z",
     "iopub.status.idle": "2024-02-06T11:32:58.779067Z",
     "shell.execute_reply": "2024-02-06T11:32:58.778469Z"
    },
    "ExecuteTime": {
     "end_time": "2024-02-09T15:04:45.167687Z",
     "start_time": "2024-02-09T15:04:45.165284Z"
    }
   },
   "outputs": [
    {
     "data": {
      "text/plain": "3"
     },
     "execution_count": 2,
     "metadata": {},
     "output_type": "execute_result"
    }
   ],
   "source": [
    "1 + 2"
   ]
  },
  {
   "cell_type": "code",
   "execution_count": 3,
   "id": "b415d135fe0da92f",
   "metadata": {
    "collapsed": false,
    "execution": {
     "iopub.execute_input": "2024-02-06T11:32:58.781677Z",
     "iopub.status.busy": "2024-02-06T11:32:58.781456Z",
     "iopub.status.idle": "2024-02-06T11:32:58.784816Z",
     "shell.execute_reply": "2024-02-06T11:32:58.784237Z"
    },
    "ExecuteTime": {
     "end_time": "2024-02-09T15:04:45.170284Z",
     "start_time": "2024-02-09T15:04:45.167958Z"
    }
   },
   "outputs": [
    {
     "name": "stdout",
     "output_type": "stream",
     "text": [
      "hello\n"
     ]
    }
   ],
   "source": [
    "print(\"hello\")\n"
   ]
  },
  {
   "cell_type": "code",
   "execution_count": 4,
   "id": "db0c8f9b99bef314",
   "metadata": {
    "collapsed": false,
    "execution": {
     "iopub.execute_input": "2024-02-06T11:32:58.787569Z",
     "iopub.status.busy": "2024-02-06T11:32:58.787408Z",
     "iopub.status.idle": "2024-02-06T11:32:58.878357Z",
     "shell.execute_reply": "2024-02-06T11:32:58.877658Z"
    },
    "ExecuteTime": {
     "end_time": "2024-02-09T15:04:45.368653Z",
     "start_time": "2024-02-09T15:04:45.294127Z"
    }
   },
   "outputs": [
    {
     "ename": "TypeError",
     "evalue": "unsupported operand type(s) for +: 'int' and 'str'",
     "output_type": "error",
     "traceback": [
      "\u001B[0;31m---------------------------------------------------------------------------\u001B[0m",
      "\u001B[0;31mTypeError\u001B[0m                                 Traceback (most recent call last)",
      "Cell \u001B[0;32mIn[4], line 1\u001B[0m\n\u001B[0;32m----> 1\u001B[0m \u001B[38;5;28mprint\u001B[39m(\u001B[38;5;241;43m2\u001B[39;49m\u001B[43m \u001B[49m\u001B[38;5;241;43m+\u001B[39;49m\u001B[43m \u001B[49m\u001B[38;5;124;43m'\u001B[39;49m\u001B[38;5;124;43ma\u001B[39;49m\u001B[38;5;124;43m'\u001B[39;49m)\n",
      "\u001B[0;31mTypeError\u001B[0m: unsupported operand type(s) for +: 'int' and 'str'"
     ]
    }
   ],
   "source": [
    "print(2 + 'a')"
   ]
  },
  {
   "cell_type": "code",
   "outputs": [],
   "source": [
    "b = 10"
   ],
   "metadata": {
    "collapsed": false,
    "ExecuteTime": {
     "end_time": "2024-02-09T15:10:32.263372Z",
     "start_time": "2024-02-09T15:10:32.260878Z"
    }
   },
   "id": "590ef282d5ae34de",
   "execution_count": 8
  },
  {
   "cell_type": "code",
   "outputs": [],
   "source": [
    "print()"
   ],
   "metadata": {
    "collapsed": false
   },
   "id": "d4773dfe60fde4bb"
  }
 ],
 "metadata": {
  "kernelspec": {
   "display_name": "Python 3",
   "language": "python",
   "name": "python3"
  },
  "language_info": {
   "codemirror_mode": {
    "name": "ipython",
    "version": 3
   },
   "file_extension": ".py",
   "mimetype": "text/x-python",
   "name": "python",
   "nbconvert_exporter": "python",
   "pygments_lexer": "ipython3",
   "version": "3.11.0"
  }
 },
 "nbformat": 4,
 "nbformat_minor": 5
}
