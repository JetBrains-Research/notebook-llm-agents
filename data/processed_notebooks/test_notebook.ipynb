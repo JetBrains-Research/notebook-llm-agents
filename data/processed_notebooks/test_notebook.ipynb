{
 "cells": [
  {
   "cell_type": "code",
   "source": [
    "#import dataset\n",
    "import pandas as pd\n",
    "\n",
    "df = pd.read_csv('../Data/loan_train.csv')\n",
    "df.head()"
   ]
  },
  {
   "cell_type": "code",
   "source": [
    "# Average Income of males and females\n",
    "df.groupby(['Gender'])[['ApplicantIncome']].mean()\n"
   ]
  },
  {
   "cell_type": "code",
   "source": [
    "# Average loan amount for different property areas like urban, rural\n",
    "df.groupby(['Property_Area'])[['LoanAmount']].mean()"
   ]
  },
  {
   "cell_type": "code",
   "source": [
    "# Compare loan status of different education backgrounds\n",
    "df.groupby(['Education'])[['Loan_Status']].count()"
   ]
  },
  {
   "cell_type": "code",
   "source": []
  }
 ],
 "metadata": {
  "kernelspec": {
   "display_name": "Python 3",
   "language": "python",
   "name": "python3"
  }
 }
}
