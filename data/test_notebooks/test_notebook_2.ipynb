{
 "cells": [
  {
   "cell_type": "code",
   "execution_count": null,
   "id": "initial_id",
   "metadata": {
    "collapsed": true,
    "execution": {
     "iopub.execute_input": "2024-02-06T11:32:58.761677Z",
     "iopub.status.busy": "2024-02-06T11:32:58.761163Z",
     "iopub.status.idle": "2024-02-06T11:32:58.770294Z",
     "shell.execute_reply": "2024-02-06T11:32:58.769516Z"
    }
   },
   "outputs": [],
   "source": [
    "print(1)"
   ]
  },
  {
   "cell_type": "code",
   "execution_count": null,
   "id": "c60bcf8fcb241e1d",
   "metadata": {
    "collapsed": false,
    "execution": {
     "iopub.execute_input": "2024-02-06T11:32:58.773430Z",
     "iopub.status.busy": "2024-02-06T11:32:58.773209Z",
     "iopub.status.idle": "2024-02-06T11:32:58.779067Z",
     "shell.execute_reply": "2024-02-06T11:32:58.778469Z"
    }
   },
   "outputs": [],
   "source": [
    "1 + 2"
   ]
  },
  {
   "cell_type": "code",
   "execution_count": null,
   "id": "b415d135fe0da92f",
   "metadata": {
    "collapsed": false,
    "execution": {
     "iopub.execute_input": "2024-02-06T11:32:58.781677Z",
     "iopub.status.busy": "2024-02-06T11:32:58.781456Z",
     "iopub.status.idle": "2024-02-06T11:32:58.784816Z",
     "shell.execute_reply": "2024-02-06T11:32:58.784237Z"
    }
   },
   "outputs": [],
   "source": [
    "print(\"hello\")\n"
   ]
  },
  {
   "cell_type": "code",
   "execution_count": null,
   "id": "db0c8f9b99bef314",
   "metadata": {
    "collapsed": false,
    "execution": {
     "iopub.execute_input": "2024-02-06T11:32:58.787569Z",
     "iopub.status.busy": "2024-02-06T11:32:58.787408Z",
     "iopub.status.idle": "2024-02-06T11:32:58.878357Z",
     "shell.execute_reply": "2024-02-06T11:32:58.877658Z"
    }
   },
   "outputs": [],
   "source": [
    "print(2 + 'a')"
   ]
  },
  {
   "cell_type": "code",
   "execution_count": null,
   "id": "b3b0f45bca89d3d4",
   "metadata": {
    "collapsed": false
   },
   "outputs": [],
   "source": []
  }
 ],
 "metadata": {
  "kernelspec": {
   "display_name": "Python 3",
   "language": "python",
   "name": "python3"
  },
  "language_info": {
   "codemirror_mode": {
    "name": "ipython",
    "version": 3
   },
   "file_extension": ".py",
   "mimetype": "text/x-python",
   "name": "python",
   "nbconvert_exporter": "python",
   "pygments_lexer": "ipython3",
   "version": "3.11.0"
  }
 },
 "nbformat": 4,
 "nbformat_minor": 5
}
